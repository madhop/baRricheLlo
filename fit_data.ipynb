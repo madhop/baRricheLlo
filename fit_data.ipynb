{
 "cells": [
  {
   "cell_type": "code",
   "execution_count": 12,
   "metadata": {},
   "outputs": [],
   "source": [
    "import pandas as pd\n",
    "import sys\n",
    "import os\n",
    "import pickle\n",
    "import argparse\n",
    "from trlib.policies.valuebased import EpsilonGreedy\n",
    "from trlib.policies.qfunction import ZeroQ\n",
    "from sklearn.ensemble.forest import ExtraTreesRegressor\n",
    "from trlib.algorithms.reinforcement.fqi_driver import FQIDriver, DoubleFQIDriver\n",
    "from trlib.environments.trackEnv import TrackEnv\n",
    "from trlib.utilities.ActionDispatcher import *\n",
    "from fqi.dataset_preprocessing import *\n",
    "\"\"\"from fqi.fqi_evaluate import run_evaluation\n",
    "from fqi.et_tuning import run_tuning\"\"\"\n",
    "from fqi.utils import *\n",
    "from fqi.reward_function import *\n",
    "from fqi.sars_creator import *\n",
    "sys.setrecursionlimit(3000)\n",
    "\n",
    "ref_df = pd.read_csv('./trajectory/ref_traj.csv')\n",
    "data_df = pd.read_csv('./trajectory/dataset.csv')\n",
    "def run_experiment(track_file_name, rt_file_name, data_path, max_iterations, output_path, n_throttle,\n",
    "               n_brake, n_steer, n_jobs, output_name, reward_function, delta_t,\n",
    "               filter_actions, ad_type, tuning, kdt_norm, kdt_param, filt_a_outliers, double_fqi, evaluation):\n",
    "\n",
    "\n",
    "    # Load dataset\n",
    "    reward_function = Speed_projection(ref_df)\n",
    "    sars_data = to_SARS(data_df, reward_function)\n",
    "    \"\"\"dataset = prepare_dataset(os.path.join('./trajectory/dataset.csv'),\n",
    "                              os.path.join('./trajectory/ref_traj.csv'),\n",
    "                              reward_function=reward_function, delta_t=delta_t)\"\"\"\n",
    "    print(sars_data)"
   ]
  },
  {
   "cell_type": "code",
   "execution_count": 19,
   "metadata": {},
   "outputs": [
    {
     "ename": "TypeError",
     "evalue": "ufunc 'invert' not supported for the input types, and the inputs could not be safely coerced to any supported types according to the casting rule ''safe''",
     "output_type": "error",
     "traceback": [
      "\u001b[0;31m---------------------------------------------------------------------------\u001b[0m",
      "\u001b[0;31mTypeError\u001b[0m                                 Traceback (most recent call last)",
      "\u001b[0;32m<ipython-input-19-a91b81b4bbdf>\u001b[0m in \u001b[0;36m<module>\u001b[0;34m\u001b[0m\n\u001b[1;32m      1\u001b[0m run_experiment('dataset', 'ref_traj', './trajectory/', 100, './model_file/', 3,3,3, 10, 'first_model', 'progress', 2, False, 'rkdt', False,\n\u001b[0;32m----> 2\u001b[0;31m                False, 10, False, True, False)\n\u001b[0m",
      "\u001b[0;32m<ipython-input-12-d3afcb2aeb64>\u001b[0m in \u001b[0;36mrun_experiment\u001b[0;34m(track_file_name, rt_file_name, data_path, max_iterations, output_path, n_throttle, n_brake, n_steer, n_jobs, output_name, reward_function, delta_t, filter_actions, ad_type, tuning, kdt_norm, kdt_param, filt_a_outliers, double_fqi, evaluation)\u001b[0m\n\u001b[1;32m     27\u001b[0m     \u001b[0;31m# Load dataset\u001b[0m\u001b[0;34m\u001b[0m\u001b[0;34m\u001b[0m\u001b[0;34m\u001b[0m\u001b[0m\n\u001b[1;32m     28\u001b[0m     \u001b[0mreward_function\u001b[0m \u001b[0;34m=\u001b[0m \u001b[0mSpeed_projection\u001b[0m\u001b[0;34m(\u001b[0m\u001b[0mref_df\u001b[0m\u001b[0;34m)\u001b[0m\u001b[0;34m\u001b[0m\u001b[0;34m\u001b[0m\u001b[0m\n\u001b[0;32m---> 29\u001b[0;31m     \u001b[0msars_data\u001b[0m \u001b[0;34m=\u001b[0m \u001b[0mto_SARS\u001b[0m\u001b[0;34m(\u001b[0m\u001b[0mdata_df\u001b[0m\u001b[0;34m,\u001b[0m \u001b[0mreward_function\u001b[0m\u001b[0;34m)\u001b[0m\u001b[0;34m\u001b[0m\u001b[0;34m\u001b[0m\u001b[0m\n\u001b[0m\u001b[1;32m     30\u001b[0m     \"\"\"dataset = prepare_dataset(os.path.join('./trajectory/dataset.csv'),\n\u001b[1;32m     31\u001b[0m                               \u001b[0mos\u001b[0m\u001b[0;34m.\u001b[0m\u001b[0mpath\u001b[0m\u001b[0;34m.\u001b[0m\u001b[0mjoin\u001b[0m\u001b[0;34m(\u001b[0m\u001b[0;34m'./trajectory/ref_traj.csv'\u001b[0m\u001b[0;34m)\u001b[0m\u001b[0;34m,\u001b[0m\u001b[0;34m\u001b[0m\u001b[0;34m\u001b[0m\u001b[0m\n",
      "\u001b[0;32m~/baRricheLlo/fqi/sars_creator.py\u001b[0m in \u001b[0;36mto_SARS\u001b[0;34m(data, reward_function)\u001b[0m\n\u001b[1;32m     27\u001b[0m         \u001b[0mabsorbing\u001b[0m \u001b[0;34m=\u001b[0m \u001b[0mnp\u001b[0m\u001b[0;34m.\u001b[0m\u001b[0mfull\u001b[0m\u001b[0;34m(\u001b[0m\u001b[0;34m[\u001b[0m\u001b[0mn_samples\u001b[0m \u001b[0;34m-\u001b[0m \u001b[0;36m1\u001b[0m\u001b[0;34m,\u001b[0m \u001b[0;34m]\u001b[0m\u001b[0;34m,\u001b[0m \u001b[0;32mFalse\u001b[0m\u001b[0;34m)\u001b[0m\u001b[0;34m\u001b[0m\u001b[0;34m\u001b[0m\u001b[0m\n\u001b[1;32m     28\u001b[0m         \u001b[0;31m# If the lap is partial do not mark the last sample as the absorbing\u001b[0m\u001b[0;34m\u001b[0m\u001b[0;34m\u001b[0m\u001b[0;34m\u001b[0m\u001b[0m\n\u001b[0;32m---> 29\u001b[0;31m         \u001b[0;31m# otherwise do it\u001b[0m\u001b[0;34m\u001b[0m\u001b[0;34m\u001b[0m\u001b[0;34m\u001b[0m\u001b[0m\n\u001b[0m\u001b[1;32m     30\u001b[0m         \u001b[0;31m#print('lap_df.is_partial.values[0]:', lap_df)\u001b[0m\u001b[0;34m\u001b[0m\u001b[0;34m\u001b[0m\u001b[0;34m\u001b[0m\u001b[0m\n\u001b[1;32m     31\u001b[0m         \u001b[0;31m#if ~(lap_df.is_partial.values[0]):\u001b[0m\u001b[0;34m\u001b[0m\u001b[0;34m\u001b[0m\u001b[0;34m\u001b[0m\u001b[0m\n",
      "\u001b[0;31mTypeError\u001b[0m: ufunc 'invert' not supported for the input types, and the inputs could not be safely coerced to any supported types according to the casting rule ''safe''"
     ]
    }
   ],
   "source": [
    "run_experiment('dataset', 'ref_traj', './trajectory/', 100, './model_file/', 3,3,3, 10, 'first_model', 'progress', 2, False, 'rkdt', False,\n",
    "               False, 10, False, True, False)"
   ]
  }
 ],
 "metadata": {
  "kernelspec": {
   "display_name": "Python 3",
   "language": "python",
   "name": "python3"
  },
  "language_info": {
   "codemirror_mode": {
    "name": "ipython",
    "version": 3
   },
   "file_extension": ".py",
   "mimetype": "text/x-python",
   "name": "python",
   "nbconvert_exporter": "python",
   "pygments_lexer": "ipython3",
   "version": "3.7.3"
  }
 },
 "nbformat": 4,
 "nbformat_minor": 2
}
