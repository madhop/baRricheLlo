{
 "cells": [
  {
   "cell_type": "code",
   "execution_count": 1,
   "metadata": {},
   "outputs": [],
   "source": [
    "import pandas as pd\n",
    "ds = pd.read_csv('./trajectory/dataset.csv')\n",
    "rt = pd.read_csv('./trajectory/ref_traj.csv')"
   ]
  },
  {
   "cell_type": "code",
   "execution_count": 3,
   "metadata": {},
   "outputs": [],
   "source": [
    "import pandas as pd\n",
    "import sys\n",
    "import os\n",
    "import pickle\n",
    "import argparse\n",
    "from trlib.policies.valuebased import EpsilonGreedy\n",
    "from trlib.policies.qfunction import ZeroQ\n",
    "from sklearn.ensemble.forest import ExtraTreesRegressor\n",
    "from trlib.algorithms.reinforcement.fqi_driver import FQIDriver, DoubleFQIDriver\n",
    "from trlib.environments.trackEnv import TrackEnv\n",
    "from trlib.utilities.ActionDispatcher import *\n",
    "from fqi.dataset_preprocessing import *\n",
    "from fqi.fqi_evaluate import run_evaluation\n",
    "\"\"\"from fqi.et_tuning import run_tuning\"\"\"\n",
    "from fqi.utils import *\n",
    "from fqi.reward_function import *\n",
    "from fqi.sars_creator import *\n",
    "sys.setrecursionlimit(3000)\n",
    "\n",
    "ref_df = pd.read_csv('./trajectory/ref_traj.csv')\n",
    "data_df = pd.read_csv('./trajectory/dataset.csv')"
   ]
  },
  {
   "cell_type": "code",
   "execution_count": 4,
   "metadata": {},
   "outputs": [
    {
     "data": {
      "text/plain": [
       "['xCarWorld',\n",
       " 'yCarWorld',\n",
       " 'nYawBody',\n",
       " 'nEngine',\n",
       " 'positionRho',\n",
       " 'positionTheta',\n",
       " 'referenceCurvature',\n",
       " 'actualCurvature',\n",
       " 'actualSpeedModule',\n",
       " 'speedDifferenceVectorModule',\n",
       " 'actualAccelerationX',\n",
       " 'actualAccelerationY',\n",
       " 'referenceAccelerationX',\n",
       " 'referenceAccelerationY',\n",
       " 'accelerationDiffX',\n",
       " 'accelerationDiffY',\n",
       " 'prevaSteerWheel',\n",
       " 'prevpBrakeF',\n",
       " 'prevrThrottlePedal']"
      ]
     },
     "execution_count": 4,
     "metadata": {},
     "output_type": "execute_result"
    }
   ],
   "source": [
    "state_cols"
   ]
  },
  {
   "cell_type": "code",
   "execution_count": 5,
   "metadata": {},
   "outputs": [],
   "source": [
    "output_name = 'model_reduced_features'#'first_model'\n",
    "reward_function = 'speed'"
   ]
  },
  {
   "cell_type": "code",
   "execution_count": 6,
   "metadata": {},
   "outputs": [],
   "source": [
    "def run_experiment(track_file_name, rt_file_name, data_path, max_iterations, output_path, n_throttle,\n",
    "               n_brake, n_steer, n_jobs, output_name, reward_function, delta_t,\n",
    "               filter_actions, ad_type, tuning, kdt_norm, kdt_param, filt_a_outliers, double_fqi, evaluation):\n",
    "\n",
    "\n",
    "    # build SARS\n",
    "    if reward_function == 'speed':\n",
    "        reward_function = Speed_projection(ref_df)\n",
    "        sars_data = to_SARS(data_df, reward_function)\n",
    "    elif reward_function == 'progress':\n",
    "        sars_data = prepare_dataset(os.path.join('./trajectory/dataset.csv'),\n",
    "                              os.path.join('./trajectory/ref_traj.csv'),\n",
    "                              reward_function=reward_function, delta_t=delta_t)\n",
    "    \n",
    "    print('SARS prepared')\n",
    "    nmin = 5\n",
    "\n",
    "    # Create environment\n",
    "    state_dim = len(state_cols)\n",
    "    action_dim = len(action_cols)\n",
    "    mdp = TrackEnv(state_dim, action_dim, 0.99999, 'continuous')\n",
    "\n",
    "    # Parameters of ET regressor\n",
    "    regressor_params = {'n_estimators': 100,\n",
    "                        'criterion': 'mse',\n",
    "                        'min_samples_split': 2,\n",
    "                        'min_samples_leaf': nmin,\n",
    "                        'n_jobs': n_jobs,\n",
    "                        'random_state': 42}\n",
    "    regressor = ExtraTreesRegressor\n",
    "\n",
    "    if ad_type == 'fkdt':\n",
    "        action_dispatcher = FixedKDTActionDispatcher\n",
    "        alg_actions = sars_data[action_cols].values\n",
    "\n",
    "    elif ad_type == 'rkdt':\n",
    "        action_dispatcher = RadialKDTActionDispatcher\n",
    "        alg_actions = sars_data[action_cols].values\n",
    "\n",
    "    elif ad_type == 'discrete':\n",
    "        action_dispatcher = ConstantActionDispatcher\n",
    "        actions, sub_actions = create_action_combinations(sars_data, n_throttle, n_brake, n_steer, filter_actions)\n",
    "        alg_actions = sub_actions\n",
    "    else:\n",
    "        action_dispatcher = None\n",
    "        alg_actions = None\n",
    "\n",
    "    # Create policy instance\n",
    "    epsilon = 0  # no exploration\n",
    "    pi = EpsilonGreedy([], ZeroQ(), epsilon)\n",
    "\n",
    "    # Define the order of the columns to pass to the algorithm\n",
    "    # state_prime_cols: colonne dello stato successivo\n",
    "    cols = ['t'] + state_cols + action_cols + ['r'] + state_prime_cols + ['absorbing']\n",
    "    # Define the masks used by the action dispatcher\n",
    "    state_mask = [i for i, s in enumerate(state_cols) if s in knn_state_cols]\n",
    "    data_mask = [i for i, c in enumerate(cols) if c in knn_state_cols]\n",
    "\n",
    "    if double_fqi:\n",
    "        fqi = DoubleFQIDriver\n",
    "    else:\n",
    "        fqi = FQIDriver\n",
    "\n",
    "    algorithm = fqi(mdp=mdp,\n",
    "                    policy=pi,\n",
    "                    actions=alg_actions,\n",
    "                    max_iterations=max_iterations,\n",
    "                    regressor_type=regressor,\n",
    "                    data=sars_data[cols].values,\n",
    "                    action_dispatcher=action_dispatcher,\n",
    "                    state_mask=state_mask,\n",
    "                    data_mask=data_mask,\n",
    "                    s_norm=kdt_norm,\n",
    "                    filter_a_outliers=filt_a_outliers,\n",
    "                    ad_n_jobs=n_jobs,\n",
    "                    ad_param=kdt_param,\n",
    "                    verbose=True,\n",
    "                    **regressor_params)\n",
    "\n",
    "    result = algorithm.step()\n",
    "    \n",
    "\n",
    "    # save algorithm object\n",
    "    algorithm_name = output_name + '.pkl'\n",
    "    with open(output_path + '/' + algorithm_name, 'wb') as output:\n",
    "        pickle.dump(algorithm, output, pickle.HIGHEST_PROTOCOL)\n",
    "    print('Saved algorithm object')\n",
    "    \n",
    "    # save policy object\n",
    "    policy_name = 'policy_' + algorithm_name\n",
    "    with open(output_path + '/' + policy_name, 'wb') as output:\n",
    "        pickle.dump(algorithm._policy, output, pickle.HIGHEST_PROTOCOL)\n",
    "    print('Saved policy object')\n",
    "\n",
    "    # save action dispatcher object\n",
    "    AD_name = 'AD_' + algorithm_name\n",
    "    with open(output_path + '/' + AD_name, 'wb') as output:\n",
    "        pickle.dump(algorithm._action_dispatcher, output, pickle.HIGHEST_PROTOCOL)\n",
    "    print('Saved Action Dispatcher')\n",
    "\n",
    "    if evaluation:\n",
    "\n",
    "        print('*** Evaluation ***')\n",
    "        run_evaluation(output_path+'/'+algorithm_name, track_file_name, data_path, n_jobs, output_path,\n",
    "                       'eval_'+output_name, filter_actions,\n",
    "                       output_path + '/' + AD_name)\n",
    "\n"
   ]
  },
  {
   "cell_type": "code",
   "execution_count": 14,
   "metadata": {},
   "outputs": [
    {
     "name": "stderr",
     "output_type": "stream",
     "text": [
      "/usr/local/lib/python3.5/dist-packages/sklearn/base.py:311: UserWarning: Trying to unpickle estimator ExtraTreeRegressor from version 0.21.3 when using version 0.19.1. This might lead to breaking code or invalid results. Use at your own risk.\n",
      "  UserWarning)\n",
      "/usr/local/lib/python3.5/dist-packages/sklearn/base.py:311: UserWarning: Trying to unpickle estimator ExtraTreesRegressor from version 0.21.3 when using version 0.19.1. This might lead to breaking code or invalid results. Use at your own risk.\n",
      "  UserWarning)\n"
     ]
    }
   ],
   "source": [
    "import pickle\n",
    "\n",
    "with open('model_file/policy_model_r_speed_50laps_pc.pkl', 'rb') as pol:\n",
    "    policy = pickle.load(pol)\n",
    "with open('model_file/AD_model_r_speed_50laps_pc.pkl', 'rb') as adfm:\n",
    "    action_disp = pickle.load(adfm)"
   ]
  },
  {
   "cell_type": "code",
   "execution_count": 16,
   "metadata": {},
   "outputs": [
    {
     "data": {
      "text/plain": [
       "'1.15.4'"
      ]
     },
     "execution_count": 16,
     "metadata": {},
     "output_type": "execute_result"
    }
   ],
   "source": [
    "import numpy as np\n",
    "np.version.version"
   ]
  }
 ],
 "metadata": {
  "kernelspec": {
   "display_name": "Python 3",
   "language": "python",
   "name": "python3"
  },
  "language_info": {
   "codemirror_mode": {
    "name": "ipython",
    "version": 3
   },
   "file_extension": ".py",
   "mimetype": "text/x-python",
   "name": "python",
   "nbconvert_exporter": "python",
   "pygments_lexer": "ipython3",
   "version": "3.5.2"
  }
 },
 "nbformat": 4,
 "nbformat_minor": 2
}
