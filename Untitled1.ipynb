{
 "cells": [
  {
   "cell_type": "code",
   "execution_count": 2,
   "metadata": {},
   "outputs": [
    {
     "name": "stderr",
     "output_type": "stream",
     "text": [
      "/usr/local/lib/python3.5/dist-packages/sklearn/ensemble/weight_boosting.py:29: DeprecationWarning: numpy.core.umath_tests is an internal NumPy module and should not be imported. It will be removed in a future NumPy release.\n",
      "  from numpy.core.umath_tests import inner1d\n"
     ]
    }
   ],
   "source": [
    "import sys\n",
    "import os\n",
    "import pickle\n",
    "import argparse\n",
    "import pandas as pd\n",
    "from sklearn.ensemble.forest import ExtraTreesRegressor\n",
    "\n",
    "from fqi.et_tuning import run_tuning\n",
    "from fqi.reward_function import *\n",
    "from fqi.sars_creator import to_SARS\n",
    "from fqi.utils import *\n",
    "\n",
    "from trlib.policies.valuebased import EpsilonGreedy\n",
    "from trlib.policies.qfunction import ZeroQ\n",
    "from trlib.algorithms.reinforcement.fqi_driver import FQIDriver, DoubleFQIDriver\n",
    "from trlib.environments.trackEnv import TrackEnv\n",
    "from trlib.utilities.ActionDispatcher import *\n",
    "\n",
    "from fqi.fqi_evaluate import run_evaluation"
   ]
  },
  {
   "cell_type": "code",
   "execution_count": 3,
   "metadata": {},
   "outputs": [],
   "source": [
    "simulations = pd.read_csv('./trajectory/dataset_70_laps.csv',\n",
    "                              dtype={'isReference': bool, 'is_partial':bool})\n",
    "\n",
    "#simulations = simulations[(simulations['NLap'] == 1) | (simulations['NLap'] == 9)]\n",
    "\n",
    "ref_tr = pd.read_csv('./trajectory/ref_traj.csv')\n",
    "ref_tr.columns = ['time', 'Acceleration_x', 'Acceleration_y', 'speed_x', 'speed_y',\n",
    "       'xCarWorld', 'yCarWorld', 'alpha_step']"
   ]
  }
 ],
 "metadata": {
  "kernelspec": {
   "display_name": "Python 3",
   "language": "python",
   "name": "python3"
  },
  "language_info": {
   "codemirror_mode": {
    "name": "ipython",
    "version": 3
   },
   "file_extension": ".py",
   "mimetype": "text/x-python",
   "name": "python",
   "nbconvert_exporter": "python",
   "pygments_lexer": "ipython3",
   "version": "3.5.2"
  }
 },
 "nbformat": 4,
 "nbformat_minor": 2
}
