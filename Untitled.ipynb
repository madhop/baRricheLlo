{
 "cells": [
  {
   "cell_type": "code",
   "execution_count": 1,
   "metadata": {},
   "outputs": [],
   "source": [
    "import sys\n",
    "import os\n",
    "import pickle\n",
    "import argparse\n",
    "import pandas as pd\n",
    "from sklearn.ensemble.forest import ExtraTreesRegressor\n",
    "\n",
    "from fqi.et_tuning import run_tuning\n",
    "from fqi.reward_function import *\n",
    "from fqi.sars_creator import to_SARS\n",
    "from fqi.utils import *\n",
    "\n",
    "from trlib.policies.valuebased import ValueBased, EpsilonGreedy, Softmax\n",
    "from trlib.policies.qfunction import ZeroQ\n",
    "from trlib.algorithms.reinforcement.fqi_driver import FQIDriver, DoubleFQIDriver\n",
    "from trlib.environments.trackEnv import TrackEnv\n",
    "from trlib.utilities.ActionDispatcher import *"
   ]
  },
  {
   "cell_type": "code",
   "execution_count": 2,
   "metadata": {},
   "outputs": [],
   "source": [
    "track_file_name = 'dataset_offroad'\n",
    "rt_file_name = 'ref_traj'\n",
    "data_path = './trajectory/'"
   ]
  },
  {
   "cell_type": "code",
   "execution_count": 3,
   "metadata": {},
   "outputs": [],
   "source": [
    "simulations = pd.read_csv(os.path.join(data_path, track_file_name + '.csv'),\n",
    "                              dtype={'isReference': bool, 'is_partial':bool})\n",
    "ref_tr = pd.read_csv(os.path.join(data_path, rt_file_name + '.csv'))"
   ]
  },
  {
   "cell_type": "code",
   "execution_count": 33,
   "metadata": {},
   "outputs": [
    {
     "data": {
      "text/plain": [
       "[36.6,\n",
       " 46.4,\n",
       " 53.9,\n",
       " 36.1,\n",
       " 40.2,\n",
       " 34.8,\n",
       " 51.5,\n",
       " 70.1,\n",
       " 55.5,\n",
       " 69.8,\n",
       " 81.4,\n",
       " 52.9,\n",
       " 83.0,\n",
       " 75.1,\n",
       " 56.0,\n",
       " 82.7,\n",
       " 89.0,\n",
       " 85.4,\n",
       " 94.9,\n",
       " 94.0,\n",
       " 109.2,\n",
       " 113.1,\n",
       " 97.0,\n",
       " 101.1,\n",
       " 102.3]"
      ]
     },
     "execution_count": 33,
     "metadata": {},
     "output_type": "execute_result"
    }
   ],
   "source": [
    "np.unique(simulations.NLap).item(-1)\n",
    "m = []\n",
    "for i in range(70, int(np.unique(simulations.NLap).item(-1)-9), 10):\n",
    "    laps10 = simulations[(simulations.NLap > i) & (simulations.NLap <= i+10)]\n",
    "    m.append(np.mean(laps10.NLap.value_counts()))\n",
    "m"
   ]
  },
  {
   "cell_type": "code",
   "execution_count": 34,
   "metadata": {},
   "outputs": [
    {
     "data": {
      "text/plain": [
       "[<matplotlib.lines.Line2D at 0x7f7991943be0>]"
      ]
     },
     "execution_count": 34,
     "metadata": {},
     "output_type": "execute_result"
    },
    {
     "data": {
      "image/png": "[encoded data removed]",
      "text/plain": [
       "<Figure size 432x288 with 1 Axes>"
      ]
     },
     "metadata": {
      "needs_background": "light"
     },
     "output_type": "display_data"
    }
   ],
   "source": [
    "import matplotlib.pyplot as plt\n",
    "fig, ax = plt.subplots(1,1)\n",
    "ax.plot(m)\n",
    "\n"
   ]
  }
 ],
 "metadata": {
  "kernelspec": {
   "display_name": "Python 3",
   "language": "python",
   "name": "python3"
  },
  "language_info": {
   "codemirror_mode": {
    "name": "ipython",
    "version": 3
   },
   "file_extension": ".py",
   "mimetype": "text/x-python",
   "name": "python",
   "nbconvert_exporter": "python",
   "pygments_lexer": "ipython3",
   "version": "3.7.3"
  }
 },
 "nbformat": 4,
 "nbformat_minor": 2
}
