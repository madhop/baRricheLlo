{
 "cells": [
  {
   "cell_type": "code",
   "execution_count": 1,
   "metadata": {},
   "outputs": [],
   "source": [
    "%load_ext autoreload\n",
    "%aimport os, pandas, numpy, pickle\n",
    "%autoreload 2"
   ]
  },
  {
   "cell_type": "code",
   "execution_count": 2,
   "metadata": {},
   "outputs": [
    {
     "name": "stderr",
     "output_type": "stream",
     "text": [
      "/usr/local/lib/python3.5/dist-packages/sklearn/ensemble/weight_boosting.py:29: DeprecationWarning: numpy.core.umath_tests is an internal NumPy module and should not be imported. It will be removed in a future NumPy release.\n",
      "  from numpy.core.umath_tests import inner1d\n"
     ]
    }
   ],
   "source": [
    "import sys\n",
    "import os\n",
    "import pickle\n",
    "import argparse\n",
    "import pandas as pd\n",
    "from sklearn.ensemble.forest import ExtraTreesRegressor\n",
    "\n",
    "from fqi.et_tuning import run_tuning\n",
    "from fqi.reward_function import *\n",
    "from fqi.sars_creator import to_SARS\n",
    "from fqi.utils import *\n",
    "\n",
    "from trlib.policies.valuebased import EpsilonGreedy, Softmax\n",
    "from trlib.policies.qfunction import ZeroQ\n",
    "from trlib.algorithms.reinforcement.fqi_driver import FQIDriver, DoubleFQIDriver\n",
    "from trlib.environments.trackEnv import TrackEnv\n",
    "from trlib.utilities.ActionDispatcher import *\n",
    "\n",
    "from fqi.fqi_evaluate import run_evaluation"
   ]
  },
  {
   "cell_type": "code",
   "execution_count": 3,
   "metadata": {},
   "outputs": [],
   "source": [
    "simulations = pd.read_csv('./trajectory/dataset_offroad.csv',\n",
    "                              dtype={'isReference': bool, 'is_partial':bool})\n",
    "\n",
    "#simulations = simulations[(simulations['NLap'] == 1) | (simulations['NLap'] == 9)]\n",
    "\n",
    "ref_tr = pd.read_csv('./trajectory/ref_traj.csv')\n",
    "ref_tr.columns = ['time', 'Acceleration_x', 'Acceleration_y', 'speed_x', 'speed_y',\n",
    "       'xCarWorld', 'yCarWorld', 'alpha_step']"
   ]
  },
  {
   "cell_type": "code",
   "execution_count": 4,
   "metadata": {},
   "outputs": [],
   "source": [
    "file_name = 'model_file/penalty/penalty.pkl'\n",
    "with open('./' + file_name, 'rb') as pen:\n",
    "     penalty = pickle.load(pen)"
   ]
  },
  {
   "cell_type": "code",
   "execution_count": 40,
   "metadata": {},
   "outputs": [],
   "source": [
    "def compute_offroad_penalty(X, trackPos):\n",
    "        logp = penalty.kde.score_samples(X)\n",
    "        #penalty.alpha * logp + penalty.scale_f\n",
    "        mask = np.absolute(trackPos) > 1\n",
    "        trackPos[~mask] = 0\n",
    "        trackPos[mask] = np.absolute(trackPos[mask])*100\n",
    "        return penalty.alpha * logp + penalty.scale_f + trackPos, trackPos"
   ]
  },
  {
   "cell_type": "code",
   "execution_count": 6,
   "metadata": {},
   "outputs": [],
   "source": [
    "rf = Temporal_projection(ref_tr, penalty=penalty, clip_range=(-np.inf, np.inf))"
   ]
  },
  {
   "cell_type": "code",
   "execution_count": 34,
   "metadata": {},
   "outputs": [
    {
     "name": "stdout",
     "output_type": "stream",
     "text": [
      "type: <class 'numpy.ndarray'>\n",
      "shape (849,)\n"
     ]
    }
   ],
   "source": [
    "data = pd.read_csv('./trajectory/dataset_offroad.csv',\n",
    "                              dtype={'isReference': bool, 'is_partial':bool})\n",
    "NLap = 12\n",
    "data = data[data['NLap'] == NLap]\n",
    "episodes = {}\n",
    "for e in np.unique(data['NLap']):\n",
    "    mask = data['NLap'] == e\n",
    "    lap_df = data[mask]\n",
    "    n_samples = np.count_nonzero(mask)\n",
    "    # create timestamp column\n",
    "    timestamp = pd.DataFrame({'t': np.zeros([n_samples - 1])})\n",
    "    # Create NLap column\n",
    "    nlap = pd.DataFrame({'NLap': np.ones([n_samples - 1]) * e}, dtype=int)\n",
    "    # Add state and action\n",
    "    state_action = lap_df[state_cols+action_cols].iloc[:-1].reset_index(drop=True)\n",
    "    # Add reward\n",
    "    #reward = pd.DataFrame({'r': reward_function(lap_df)})\n",
    "    r = rf(lap_df)\n",
    "    #print(r)\n",
    "    print('type:', type(r))\n",
    "    print('shape', r.shape)"
   ]
  },
  {
   "cell_type": "code",
   "execution_count": 41,
   "metadata": {},
   "outputs": [],
   "source": [
    "penalty.kernel\n",
    "penalty.bandwidth\n",
    "off_p, trackPos = compute_offroad_penalty(data[state_cols].values[1:], data['trackPos'].values[1:])"
   ]
  },
  {
   "cell_type": "code",
   "execution_count": 42,
   "metadata": {},
   "outputs": [
    {
     "data": {
      "text/html": [
       "<div>\n",
       "<style scoped>\n",
       "    .dataframe tbody tr th:only-of-type {\n",
       "        vertical-align: middle;\n",
       "    }\n",
       "\n",
       "    .dataframe tbody tr th {\n",
       "        vertical-align: top;\n",
       "    }\n",
       "\n",
       "    .dataframe thead th {\n",
       "        text-align: right;\n",
       "    }\n",
       "</style>\n",
       "<table border=\"1\" class=\"dataframe\">\n",
       "  <thead>\n",
       "    <tr style=\"text-align: right;\">\n",
       "      <th></th>\n",
       "      <th>trackPos</th>\n",
       "    </tr>\n",
       "  </thead>\n",
       "  <tbody>\n",
       "    <tr>\n",
       "      <th>count</th>\n",
       "      <td>849.000000</td>\n",
       "    </tr>\n",
       "    <tr>\n",
       "      <th>mean</th>\n",
       "      <td>44.769514</td>\n",
       "    </tr>\n",
       "    <tr>\n",
       "      <th>std</th>\n",
       "      <td>143.334689</td>\n",
       "    </tr>\n",
       "    <tr>\n",
       "      <th>min</th>\n",
       "      <td>0.000000</td>\n",
       "    </tr>\n",
       "    <tr>\n",
       "      <th>25%</th>\n",
       "      <td>0.000000</td>\n",
       "    </tr>\n",
       "    <tr>\n",
       "      <th>50%</th>\n",
       "      <td>0.000000</td>\n",
       "    </tr>\n",
       "    <tr>\n",
       "      <th>75%</th>\n",
       "      <td>0.000000</td>\n",
       "    </tr>\n",
       "    <tr>\n",
       "      <th>max</th>\n",
       "      <td>1007.229055</td>\n",
       "    </tr>\n",
       "  </tbody>\n",
       "</table>\n",
       "</div>"
      ],
      "text/plain": [
       "          trackPos\n",
       "count   849.000000\n",
       "mean     44.769514\n",
       "std     143.334689\n",
       "min       0.000000\n",
       "25%       0.000000\n",
       "50%       0.000000\n",
       "75%       0.000000\n",
       "max    1007.229055"
      ]
     },
     "execution_count": 42,
     "metadata": {},
     "output_type": "execute_result"
    }
   ],
   "source": [
    "pd.DataFrame(trackPos, columns=['trackPos']).describe()"
   ]
  },
  {
   "cell_type": "code",
   "execution_count": null,
   "metadata": {},
   "outputs": [],
   "source": []
  }
 ],
 "metadata": {
  "kernelspec": {
   "display_name": "Python 3",
   "language": "python",
   "name": "python3"
  },
  "language_info": {
   "codemirror_mode": {
    "name": "ipython",
    "version": 3
   },
   "file_extension": ".py",
   "mimetype": "text/x-python",
   "name": "python",
   "nbconvert_exporter": "python",
   "pygments_lexer": "ipython3",
   "version": "3.5.2"
  }
 },
 "nbformat": 4,
 "nbformat_minor": 2
}
